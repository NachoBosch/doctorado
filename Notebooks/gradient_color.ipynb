{
 "cells": [
  {
   "cell_type": "code",
   "execution_count": 1,
   "metadata": {},
   "outputs": [
    {
     "ename": "KeyboardInterrupt",
     "evalue": "",
     "output_type": "error",
     "traceback": [
      "\u001b[1;31m---------------------------------------------------------------------------\u001b[0m",
      "\u001b[1;31mKeyboardInterrupt\u001b[0m                         Traceback (most recent call last)",
      "\u001b[1;32m~\\AppData\\Local\\Temp\\ipykernel_3424\\368047603.py\u001b[0m in \u001b[0;36m<module>\u001b[1;34m\u001b[0m\n\u001b[0;32m     52\u001b[0m \u001b[1;33m\u001b[0m\u001b[0m\n\u001b[0;32m     53\u001b[0m     \u001b[1;31m# Mostrar la máscara, la máscara procesada y el resultado\u001b[0m\u001b[1;33m\u001b[0m\u001b[1;33m\u001b[0m\u001b[0m\n\u001b[1;32m---> 54\u001b[1;33m     \u001b[0mcv2\u001b[0m\u001b[1;33m.\u001b[0m\u001b[0mimshow\u001b[0m\u001b[1;33m(\u001b[0m\u001b[1;34m'Mascara original'\u001b[0m\u001b[1;33m,\u001b[0m \u001b[0mmascara\u001b[0m\u001b[1;33m)\u001b[0m\u001b[1;33m\u001b[0m\u001b[0m\n\u001b[0m\u001b[0;32m     55\u001b[0m     \u001b[0mcv2\u001b[0m\u001b[1;33m.\u001b[0m\u001b[0mimshow\u001b[0m\u001b[1;33m(\u001b[0m\u001b[1;34m'Mascara con operaciones morfológicas'\u001b[0m\u001b[1;33m,\u001b[0m \u001b[0mcierre\u001b[0m\u001b[1;33m)\u001b[0m\u001b[1;33m\u001b[0m\u001b[0m\n\u001b[0;32m     56\u001b[0m     \u001b[0mcv2\u001b[0m\u001b[1;33m.\u001b[0m\u001b[0mimshow\u001b[0m\u001b[1;33m(\u001b[0m\u001b[1;34m'Objeto segmentado'\u001b[0m\u001b[1;33m,\u001b[0m \u001b[0mresultado\u001b[0m\u001b[1;33m)\u001b[0m\u001b[1;33m\u001b[0m\u001b[0m\n",
      "\u001b[1;31mKeyboardInterrupt\u001b[0m: "
     ]
    }
   ],
   "source": [
    "import cv2\n",
    "import numpy as np\n",
    "\n",
    "# Función vacía, requerida para los trackbars\n",
    "def nothing(x):\n",
    "    pass\n",
    "\n",
    "# Cargar la imagen\n",
    "imagen = cv2.imread('C:/Users/Nacho/Documents/Inteligencia_Artificial/lumen.jpeg')\n",
    "\n",
    "# Convertir la imagen de BGR a HSV\n",
    "hsv = cv2.cvtColor(imagen, cv2.COLOR_BGR2HSV)\n",
    "\n",
    "# Crear una ventana para los trackbars\n",
    "cv2.namedWindow('Ajuste de HSV')\n",
    "\n",
    "# Crear trackbars para ajustar los límites de HSV\n",
    "cv2.createTrackbar('H Min', 'Ajuste de HSV', 0, 179, nothing)\n",
    "cv2.createTrackbar('S Min', 'Ajuste de HSV', 0, 255, nothing)\n",
    "cv2.createTrackbar('V Min', 'Ajuste de HSV', 0, 255, nothing)\n",
    "cv2.createTrackbar('H Max', 'Ajuste de HSV', 179, 179, nothing)\n",
    "cv2.createTrackbar('S Max', 'Ajuste de HSV', 255, 255, nothing)\n",
    "cv2.createTrackbar('V Max', 'Ajuste de HSV', 255, 255, nothing)\n",
    "\n",
    "# Crear un elemento estructurante (kernel) para las operaciones morfológicas\n",
    "kernel = np.ones((5, 5), np.uint8)\n",
    "\n",
    "while True:\n",
    "    # Obtener los valores actuales de los trackbars\n",
    "    h_min = cv2.getTrackbarPos('H Min', 'Ajuste de HSV')\n",
    "    s_min = cv2.getTrackbarPos('S Min', 'Ajuste de HSV')\n",
    "    v_min = cv2.getTrackbarPos('V Min', 'Ajuste de HSV')\n",
    "    h_max = cv2.getTrackbarPos('H Max', 'Ajuste de HSV')\n",
    "    s_max = cv2.getTrackbarPos('S Max', 'Ajuste de HSV')\n",
    "    v_max = cv2.getTrackbarPos('V Max', 'Ajuste de HSV')\n",
    "\n",
    "    # Definir los límites inferiores y superiores para HSV\n",
    "    limite_inferior = np.array([h_min, s_min, v_min])\n",
    "    limite_superior = np.array([h_max, s_max, v_max])\n",
    "\n",
    "    # Crear la máscara usando los límites definidos\n",
    "    mascara = cv2.inRange(hsv, limite_inferior, limite_superior)\n",
    "\n",
    "    # Aplicar una operación de apertura (opening) para eliminar ruido\n",
    "    apertura = cv2.morphologyEx(mascara, cv2.MORPH_OPEN, kernel)\n",
    "\n",
    "    # Opcional: Aplicar una operación de cierre (closing) para cerrar pequeños huecos\n",
    "    cierre = cv2.morphologyEx(apertura, cv2.MORPH_CLOSE, kernel)\n",
    "\n",
    "    # Aplicar la máscara procesada (con apertura y cierre) a la imagen original\n",
    "    resultado = cv2.bitwise_and(imagen, imagen, mask=cierre)\n",
    "\n",
    "    # Mostrar la máscara, la máscara procesada y el resultado\n",
    "    cv2.imshow('Mascara original', mascara)\n",
    "    cv2.imshow('Mascara con operaciones morfológicas', cierre)\n",
    "    cv2.imshow('Objeto segmentado', resultado)\n",
    "\n",
    "    # Presionar 'ESC' para salir del bucle\n",
    "    if cv2.waitKey(1) & 0xFF == 27:\n",
    "        break\n",
    "\n",
    "# Cerrar todas las ventanas\n",
    "cv2.destroyAllWindows()\n"
   ]
  },
  {
   "cell_type": "code",
   "execution_count": null,
   "metadata": {},
   "outputs": [],
   "source": []
  }
 ],
 "metadata": {
  "kernelspec": {
   "display_name": "base",
   "language": "python",
   "name": "python3"
  },
  "language_info": {
   "codemirror_mode": {
    "name": "ipython",
    "version": 3
   },
   "file_extension": ".py",
   "mimetype": "text/x-python",
   "name": "python",
   "nbconvert_exporter": "python",
   "pygments_lexer": "ipython3",
   "version": "3.7.0"
  }
 },
 "nbformat": 4,
 "nbformat_minor": 2
}
