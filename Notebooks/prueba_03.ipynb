{
 "cells": [
  {
   "cell_type": "markdown",
   "metadata": {},
   "source": [
    "# Análisis dataset HD\n",
    "\n",
    "En este notebook realizaremos un análisis exploratorio del dataset construido `HD_dataset_full.csv`"
   ]
  },
  {
   "cell_type": "code",
   "execution_count": 1,
   "metadata": {},
   "outputs": [
    {
     "name": "stderr",
     "output_type": "stream",
     "text": [
      "C:\\Users\\Nacho\\AppData\\Roaming\\Python\\Python38\\site-packages\\pandas\\core\\computation\\expressions.py:20: UserWarning: Pandas requires version '2.7.3' or newer of 'numexpr' (version '2.7.1' currently installed).\n",
      "  from pandas.core.computation.check import NUMEXPR_INSTALLED\n"
     ]
    }
   ],
   "source": [
    "import pandas as pd\n",
    "import matplotlib.pyplot as plt\n",
    "import seaborn as sns\n",
    "sns.set()"
   ]
  },
  {
   "cell_type": "code",
   "execution_count": 2,
   "metadata": {},
   "outputs": [
    {
     "data": {
      "text/html": [
       "<div>\n",
       "<style scoped>\n",
       "    .dataframe tbody tr th:only-of-type {\n",
       "        vertical-align: middle;\n",
       "    }\n",
       "\n",
       "    .dataframe tbody tr th {\n",
       "        vertical-align: top;\n",
       "    }\n",
       "\n",
       "    .dataframe thead th {\n",
       "        text-align: right;\n",
       "    }\n",
       "</style>\n",
       "<table border=\"1\" class=\"dataframe\">\n",
       "  <thead>\n",
       "    <tr style=\"text-align: right;\">\n",
       "      <th></th>\n",
       "      <th>Unnamed: 0</th>\n",
       "      <th>ENSG00000000457</th>\n",
       "      <th>ENSG00000001461</th>\n",
       "      <th>ENSG00000001497</th>\n",
       "      <th>ENSG00000001626</th>\n",
       "      <th>ENSG00000002016</th>\n",
       "      <th>ENSG00000002745</th>\n",
       "      <th>ENSG00000002746</th>\n",
       "      <th>ENSG00000003137</th>\n",
       "      <th>ENSG00000003147</th>\n",
       "      <th>...</th>\n",
       "      <th>ENSG00000276644</th>\n",
       "      <th>ENSG00000277443</th>\n",
       "      <th>ENSG00000277893</th>\n",
       "      <th>ENSG00000278259</th>\n",
       "      <th>ENSG00000278311</th>\n",
       "      <th>ENSG00000279152</th>\n",
       "      <th>ENSG00000279519</th>\n",
       "      <th>ENSG00000280099</th>\n",
       "      <th>ENSG00000280109</th>\n",
       "      <th>Grade</th>\n",
       "    </tr>\n",
       "  </thead>\n",
       "  <tbody>\n",
       "    <tr>\n",
       "      <th>0</th>\n",
       "      <td>GSM86787</td>\n",
       "      <td>-0.030418</td>\n",
       "      <td>1.193756</td>\n",
       "      <td>1.852312</td>\n",
       "      <td>0.122721</td>\n",
       "      <td>-0.134031</td>\n",
       "      <td>0.178517</td>\n",
       "      <td>1.110357</td>\n",
       "      <td>-0.059366</td>\n",
       "      <td>0.528582</td>\n",
       "      <td>...</td>\n",
       "      <td>2.717965</td>\n",
       "      <td>7.964445</td>\n",
       "      <td>0.767224</td>\n",
       "      <td>1.141740</td>\n",
       "      <td>2.766475</td>\n",
       "      <td>-0.119175</td>\n",
       "      <td>2.737949</td>\n",
       "      <td>0.490229</td>\n",
       "      <td>1.250728</td>\n",
       "      <td>-</td>\n",
       "    </tr>\n",
       "    <tr>\n",
       "      <th>1</th>\n",
       "      <td>GSM86788</td>\n",
       "      <td>0.071466</td>\n",
       "      <td>0.854393</td>\n",
       "      <td>2.086258</td>\n",
       "      <td>-0.005047</td>\n",
       "      <td>0.070220</td>\n",
       "      <td>-0.020529</td>\n",
       "      <td>0.698504</td>\n",
       "      <td>-0.090563</td>\n",
       "      <td>0.404754</td>\n",
       "      <td>...</td>\n",
       "      <td>0.358230</td>\n",
       "      <td>8.358387</td>\n",
       "      <td>0.190089</td>\n",
       "      <td>0.732635</td>\n",
       "      <td>3.081154</td>\n",
       "      <td>-0.196979</td>\n",
       "      <td>1.440951</td>\n",
       "      <td>0.697468</td>\n",
       "      <td>0.577058</td>\n",
       "      <td>2</td>\n",
       "    </tr>\n",
       "    <tr>\n",
       "      <th>2</th>\n",
       "      <td>GSM86789</td>\n",
       "      <td>-0.018925</td>\n",
       "      <td>0.948403</td>\n",
       "      <td>1.748278</td>\n",
       "      <td>0.046471</td>\n",
       "      <td>-0.109425</td>\n",
       "      <td>0.027227</td>\n",
       "      <td>1.078179</td>\n",
       "      <td>0.077332</td>\n",
       "      <td>0.691233</td>\n",
       "      <td>...</td>\n",
       "      <td>3.469319</td>\n",
       "      <td>5.620984</td>\n",
       "      <td>0.673626</td>\n",
       "      <td>0.637210</td>\n",
       "      <td>3.698899</td>\n",
       "      <td>-0.169412</td>\n",
       "      <td>3.352828</td>\n",
       "      <td>0.757061</td>\n",
       "      <td>0.734854</td>\n",
       "      <td>-</td>\n",
       "    </tr>\n",
       "  </tbody>\n",
       "</table>\n",
       "<p>3 rows × 3394 columns</p>\n",
       "</div>"
      ],
      "text/plain": [
       "  Unnamed: 0  ENSG00000000457  ENSG00000001461  ENSG00000001497  \\\n",
       "0   GSM86787        -0.030418         1.193756         1.852312   \n",
       "1   GSM86788         0.071466         0.854393         2.086258   \n",
       "2   GSM86789        -0.018925         0.948403         1.748278   \n",
       "\n",
       "   ENSG00000001626  ENSG00000002016  ENSG00000002745  ENSG00000002746  \\\n",
       "0         0.122721        -0.134031         0.178517         1.110357   \n",
       "1        -0.005047         0.070220        -0.020529         0.698504   \n",
       "2         0.046471        -0.109425         0.027227         1.078179   \n",
       "\n",
       "   ENSG00000003137  ENSG00000003147  ...  ENSG00000276644  ENSG00000277443  \\\n",
       "0        -0.059366         0.528582  ...         2.717965         7.964445   \n",
       "1        -0.090563         0.404754  ...         0.358230         8.358387   \n",
       "2         0.077332         0.691233  ...         3.469319         5.620984   \n",
       "\n",
       "   ENSG00000277893  ENSG00000278259  ENSG00000278311  ENSG00000279152  \\\n",
       "0         0.767224         1.141740         2.766475        -0.119175   \n",
       "1         0.190089         0.732635         3.081154        -0.196979   \n",
       "2         0.673626         0.637210         3.698899        -0.169412   \n",
       "\n",
       "   ENSG00000279519  ENSG00000280099  ENSG00000280109  Grade  \n",
       "0         2.737949         0.490229         1.250728      -  \n",
       "1         1.440951         0.697468         0.577058      2  \n",
       "2         3.352828         0.757061         0.734854      -  \n",
       "\n",
       "[3 rows x 3394 columns]"
      ]
     },
     "execution_count": 2,
     "metadata": {},
     "output_type": "execute_result"
    }
   ],
   "source": [
    "df_hd = pd.read_csv('../Data/HD_dataset_full.csv')\n",
    "df_hd.head(3)"
   ]
  },
  {
   "cell_type": "code",
   "execution_count": 3,
   "metadata": {},
   "outputs": [],
   "source": [
    "df_hd.rename(columns={'Unnamed: 0':'Samples'},inplace=True)"
   ]
  },
  {
   "cell_type": "code",
   "execution_count": 13,
   "metadata": {},
   "outputs": [
    {
     "data": {
      "text/plain": [
       "Index(['Samples', 'ENSG00000000457', 'ENSG00000001461', 'ENSG00000001497',\n",
       "       'ENSG00000001626', 'ENSG00000002016', 'ENSG00000002745',\n",
       "       'ENSG00000002746', 'ENSG00000003137', 'ENSG00000003147',\n",
       "       ...\n",
       "       'ENSG00000276644', 'ENSG00000277443', 'ENSG00000277893',\n",
       "       'ENSG00000278259', 'ENSG00000278311', 'ENSG00000279152',\n",
       "       'ENSG00000279519', 'ENSG00000280099', 'ENSG00000280109', 'Grade'],\n",
       "      dtype='object', length=3394)"
      ]
     },
     "execution_count": 13,
     "metadata": {},
     "output_type": "execute_result"
    }
   ],
   "source": [
    "df_hd.columns"
   ]
  },
  {
   "cell_type": "code",
   "execution_count": 18,
   "metadata": {},
   "outputs": [
    {
     "name": "stdout",
     "output_type": "stream",
     "text": [
      "<class 'pandas.core.frame.DataFrame'>\n",
      "RangeIndex: 404 entries, 0 to 403\n",
      "Columns: 3394 entries, Samples to Grade\n",
      "dtypes: float64(3392), int64(1), object(1)\n",
      "memory usage: 10.5+ MB\n"
     ]
    }
   ],
   "source": [
    "df_hd.info()"
   ]
  },
  {
   "cell_type": "code",
   "execution_count": 6,
   "metadata": {},
   "outputs": [],
   "source": [
    "df_hd[['Samples','Grade']].to_csv('Grados_por_muestra.csv')"
   ]
  },
  {
   "cell_type": "code",
   "execution_count": 17,
   "metadata": {},
   "outputs": [
    {
     "data": {
      "image/png": "[encoded data removed]",
      "text/plain": [
       "<Figure size 720x504 with 1 Axes>"
      ]
     },
     "metadata": {
      "needs_background": "light"
     },
     "output_type": "display_data"
    }
   ],
   "source": [
    "plt.figure(figsize=(10,7))\n",
    "\n",
    "sns.barplot(x = df_hd['Grade'].value_counts().index, \n",
    "            y = df_hd['Grade'].value_counts(), \n",
    "            hue = df_hd['Grade'].value_counts().index)\n",
    "plt.ylabel('Cantidad')\n",
    "plt.xlabel('Etiquetas de grados de severidad de HD');"
   ]
  },
  {
   "cell_type": "code",
   "execution_count": 21,
   "metadata": {},
   "outputs": [
    {
     "data": {
      "image/png": "[encoded data removed]",
      "text/plain": [
       "<Figure size 432x288 with 1 Axes>"
      ]
     },
     "metadata": {
      "needs_background": "light"
     },
     "output_type": "display_data"
    }
   ],
   "source": [
    "for gen in df_hd.columns[1:-1]:\n",
    "    sns.kdeplot(df_hd[gen])"
   ]
  },
  {
   "cell_type": "code",
   "execution_count": null,
   "metadata": {},
   "outputs": [],
   "source": []
  }
 ],
 "metadata": {
  "kernelspec": {
   "display_name": "base",
   "language": "python",
   "name": "python3"
  },
  "language_info": {
   "codemirror_mode": {
    "name": "ipython",
    "version": 3
   },
   "file_extension": ".py",
   "mimetype": "text/x-python",
   "name": "python",
   "nbconvert_exporter": "python",
   "pygments_lexer": "ipython3",
   "version": "3.8.3"
  }
 },
 "nbformat": 4,
 "nbformat_minor": 2
}
