{
  "cells": [
    {
      "cell_type": "code",
      "execution_count": 1,
      "metadata": {
        "id": "MigqvZBj7Fgg"
      },
      "outputs": [],
      "source": [
        "# !pip install jmetalpy"
      ]
    },
    {
      "cell_type": "code",
      "execution_count": 1,
      "metadata": {
        "id": "ek2bSjts4eAL"
      },
      "outputs": [],
      "source": [
        "import pandas as pd\n",
        "import matplotlib.pyplot as plt\n",
        "import seaborn as sns\n",
        "import numpy as np\n",
        "sns.set()"
      ]
    },
    {
      "cell_type": "code",
      "execution_count": 2,
      "metadata": {
        "colab": {
          "base_uri": "https://localhost:8080/",
          "height": 130
        },
        "id": "Tfvf7yJw4kRK",
        "outputId": "1d41452b-19cf-41ec-9d2c-0e4ac2277b83"
      },
      "outputs": [
        {
          "data": {
            "text/html": [
              "<div>\n",
              "<style scoped>\n",
              "    .dataframe tbody tr th:only-of-type {\n",
              "        vertical-align: middle;\n",
              "    }\n",
              "\n",
              "    .dataframe tbody tr th {\n",
              "        vertical-align: top;\n",
              "    }\n",
              "\n",
              "    .dataframe thead th {\n",
              "        text-align: right;\n",
              "    }\n",
              "</style>\n",
              "<table border=\"1\" class=\"dataframe\">\n",
              "  <thead>\n",
              "    <tr style=\"text-align: right;\">\n",
              "      <th></th>\n",
              "      <th>Samples</th>\n",
              "      <th>ENSG00000000457</th>\n",
              "      <th>ENSG00000001461</th>\n",
              "      <th>ENSG00000001497</th>\n",
              "      <th>ENSG00000001626</th>\n",
              "      <th>ENSG00000002016</th>\n",
              "      <th>ENSG00000002745</th>\n",
              "      <th>ENSG00000002746</th>\n",
              "      <th>ENSG00000003137</th>\n",
              "      <th>ENSG00000003147</th>\n",
              "      <th>...</th>\n",
              "      <th>ENSG00000276644</th>\n",
              "      <th>ENSG00000277443</th>\n",
              "      <th>ENSG00000277893</th>\n",
              "      <th>ENSG00000278259</th>\n",
              "      <th>ENSG00000278311</th>\n",
              "      <th>ENSG00000279152</th>\n",
              "      <th>ENSG00000279519</th>\n",
              "      <th>ENSG00000280099</th>\n",
              "      <th>ENSG00000280109</th>\n",
              "      <th>Grade</th>\n",
              "    </tr>\n",
              "  </thead>\n",
              "  <tbody>\n",
              "    <tr>\n",
              "      <th>0</th>\n",
              "      <td>GSM86787</td>\n",
              "      <td>-0.030418</td>\n",
              "      <td>1.193756</td>\n",
              "      <td>1.852312</td>\n",
              "      <td>0.122721</td>\n",
              "      <td>-0.134031</td>\n",
              "      <td>0.178517</td>\n",
              "      <td>1.110357</td>\n",
              "      <td>-0.059366</td>\n",
              "      <td>0.528582</td>\n",
              "      <td>...</td>\n",
              "      <td>2.717965</td>\n",
              "      <td>7.964445</td>\n",
              "      <td>0.767224</td>\n",
              "      <td>1.14174</td>\n",
              "      <td>2.766475</td>\n",
              "      <td>-0.119175</td>\n",
              "      <td>2.737949</td>\n",
              "      <td>0.490229</td>\n",
              "      <td>1.250728</td>\n",
              "      <td>Control</td>\n",
              "    </tr>\n",
              "  </tbody>\n",
              "</table>\n",
              "<p>1 rows × 3394 columns</p>\n",
              "</div>"
            ],
            "text/plain": [
              "    Samples  ENSG00000000457  ENSG00000001461  ENSG00000001497  \\\n",
              "0  GSM86787        -0.030418         1.193756         1.852312   \n",
              "\n",
              "   ENSG00000001626  ENSG00000002016  ENSG00000002745  ENSG00000002746  \\\n",
              "0         0.122721        -0.134031         0.178517         1.110357   \n",
              "\n",
              "   ENSG00000003137  ENSG00000003147  ...  ENSG00000276644  ENSG00000277443  \\\n",
              "0        -0.059366         0.528582  ...         2.717965         7.964445   \n",
              "\n",
              "   ENSG00000277893  ENSG00000278259  ENSG00000278311  ENSG00000279152  \\\n",
              "0         0.767224          1.14174         2.766475        -0.119175   \n",
              "\n",
              "   ENSG00000279519  ENSG00000280099  ENSG00000280109    Grade  \n",
              "0         2.737949         0.490229         1.250728  Control  \n",
              "\n",
              "[1 rows x 3394 columns]"
            ]
          },
          "execution_count": 2,
          "metadata": {},
          "output_type": "execute_result"
        }
      ],
      "source": [
        "df_hd = pd.read_csv('../Data/HD_dataset_full.csv')\n",
        "df_hd.rename(columns={'Unnamed: 0':'Samples'},inplace=True)\n",
        "df_hd['Grade'] = df_hd['Grade'].map({'-':'Control',\n",
        "                                     '0':'HD_0',\n",
        "                                     '1':'HD_1',\n",
        "                                     '2':'HD_2',\n",
        "                                     '3':'HD_3',\n",
        "                                     '4':'HD_4'})\n",
        "df_hd.head(1)"
      ]
    },
    {
      "cell_type": "code",
      "execution_count": 3,
      "metadata": {
        "id": "htNk7O4w8V7P"
      },
      "outputs": [],
      "source": [
        "# from jmetal.core.problem import BinaryProblem\n",
        "from jmetal.core.solution import BinarySolution\n",
        "from jmetal.algorithm.singleobjective import GeneticAlgorithm\n",
        "from jmetal.operator import BinaryTournamentSelection, SBXCrossover, BitFlipMutation, DifferentialEvolutionCrossover, PolynomialMutation, CXCrossover, SPXCrossover\n",
        "from jmetal.util.termination_criterion import StoppingByEvaluations"
      ]
    },
    {
      "cell_type": "code",
      "execution_count": 4,
      "metadata": {},
      "outputs": [],
      "source": [
        "from sklearn.tree import DecisionTreeClassifier\n",
        "from sklearn.svm import SVC\n",
        "from sklearn.metrics import accuracy_score\n",
        "from sklearn.model_selection import train_test_split,KFold\n",
        "from sklearn.preprocessing import LabelEncoder"
      ]
    },
    {
      "cell_type": "code",
      "execution_count": 5,
      "metadata": {
        "id": "fZ7P0Vk_5Yw-"
      },
      "outputs": [],
      "source": [
        "class FeatureSelectionProblem():\n",
        "  def __init__(self,X,y):\n",
        "    self.X = X\n",
        "    self.y = y\n",
        "    self.number_of_variables = X.shape[1]\n",
        "    self.number_of_objectives = 1\n",
        "    self.number_of_constraints = 0\n",
        "\n",
        "  def evaluate(self, solution):\n",
        "    selected_features = np.flatnonzero(solution.variables)\n",
        "    X_selected = self.X.iloc[:, selected_features]\n",
        "    Xtrain,Xtest,ytrain,ytest = train_test_split(X_selected,self.y)\n",
        "\n",
        "    model = DecisionTreeClassifier()\n",
        "    model.fit(Xtrain, ytrain)\n",
        "    y_pred = model.predict(Xtest)\n",
        "    acc = accuracy_score(ytest, y_pred)\n",
        "\n",
        "    solution.objectives[0] = acc\n",
        "    solution.constraints = []\n",
        "\n",
        "  def create_solution(self):\n",
        "    new_solution = BinarySolution(\n",
        "        number_of_variables = self.number_of_variables,\n",
        "        number_of_objectives = self.number_of_objectives,\n",
        "        number_of_constraints = self.number_of_constraints\n",
        "    )\n",
        "    # new_variables = [list(np.random.randint(0, 2, size=1).tolist()[0] for _ in range(self.number_of_variables))]\n",
        "    new_variables = [np.random.randint(0, 2, size=1)[0] for _ in range(self.number_of_variables)]\n",
        "    new_solution.variables = new_variables\n",
        "    return new_solution\n",
        "\n",
        "  def get_name(self):\n",
        "    return \"FeatureSelectionProblem\"\n"
      ]
    },
    {
      "cell_type": "code",
      "execution_count": 10,
      "metadata": {},
      "outputs": [
        {
          "name": "stderr",
          "output_type": "stream",
          "text": [
            "[2024-05-27 20:24:43,978] [jmetal.core.algorithm] [DEBUG] Creating initial set of solutions...\n",
            "[2024-05-27 20:24:44,141] [jmetal.core.algorithm] [DEBUG] Evaluating solutions...\n",
            "[2024-05-27 20:24:52,588] [jmetal.core.algorithm] [DEBUG] Initializing progress...\n",
            "[2024-05-27 20:24:52,588] [jmetal.core.algorithm] [DEBUG] Running main loop until termination criteria is met\n"
          ]
        },
        {
          "name": "stdout",
          "output_type": "stream",
          "text": [
            "StopbyEvals:  100\n"
          ]
        },
        {
          "ename": "TypeError",
          "evalue": "object of type 'bool' has no len()",
          "output_type": "error",
          "traceback": [
            "\u001b[1;31m---------------------------------------------------------------------------\u001b[0m",
            "\u001b[1;31mTypeError\u001b[0m                                 Traceback (most recent call last)",
            "Input \u001b[1;32mIn [10]\u001b[0m, in \u001b[0;36m<cell line: 66>\u001b[1;34m()\u001b[0m\n\u001b[0;32m     54\u001b[0m problem \u001b[38;5;241m=\u001b[39m FeatureSelectionGA(X,y,\u001b[38;5;241m0.9\u001b[39m)\n\u001b[0;32m     56\u001b[0m algorithm \u001b[38;5;241m=\u001b[39m GeneticAlgorithm(\n\u001b[0;32m     57\u001b[0m     problem\u001b[38;5;241m=\u001b[39mproblem,\n\u001b[0;32m     58\u001b[0m     population_size\u001b[38;5;241m=\u001b[39m\u001b[38;5;241m100\u001b[39m,\n\u001b[1;32m   (...)\u001b[0m\n\u001b[0;32m     63\u001b[0m     termination_criterion\u001b[38;5;241m=\u001b[39mStoppingByEvaluations(max_evaluations\u001b[38;5;241m=\u001b[39m\u001b[38;5;241m1000\u001b[39m)\n\u001b[0;32m     64\u001b[0m )\n\u001b[1;32m---> 66\u001b[0m \u001b[43malgorithm\u001b[49m\u001b[38;5;241;43m.\u001b[39;49m\u001b[43mrun\u001b[49m\u001b[43m(\u001b[49m\u001b[43m)\u001b[49m\n",
            "File \u001b[1;32mc:\\Users\\admin\\anaconda3\\lib\\site-packages\\jmetal\\core\\algorithm.py:86\u001b[0m, in \u001b[0;36mAlgorithm.run\u001b[1;34m(self)\u001b[0m\n\u001b[0;32m     84\u001b[0m logger\u001b[38;5;241m.\u001b[39mdebug(\u001b[38;5;124m\"\u001b[39m\u001b[38;5;124mRunning main loop until termination criteria is met\u001b[39m\u001b[38;5;124m\"\u001b[39m)\n\u001b[0;32m     85\u001b[0m \u001b[38;5;28;01mwhile\u001b[39;00m \u001b[38;5;129;01mnot\u001b[39;00m \u001b[38;5;28mself\u001b[39m\u001b[38;5;241m.\u001b[39mstopping_condition_is_met():\n\u001b[1;32m---> 86\u001b[0m     \u001b[38;5;28;43mself\u001b[39;49m\u001b[38;5;241;43m.\u001b[39;49m\u001b[43mstep\u001b[49m\u001b[43m(\u001b[49m\u001b[43m)\u001b[49m\n\u001b[0;32m     87\u001b[0m     \u001b[38;5;28mself\u001b[39m\u001b[38;5;241m.\u001b[39mupdate_progress()\n\u001b[0;32m     89\u001b[0m logger\u001b[38;5;241m.\u001b[39mdebug(\u001b[38;5;124m\"\u001b[39m\u001b[38;5;124mFinished!\u001b[39m\u001b[38;5;124m\"\u001b[39m)\n",
            "File \u001b[1;32mc:\\Users\\admin\\anaconda3\\lib\\site-packages\\jmetal\\core\\algorithm.py:146\u001b[0m, in \u001b[0;36mEvolutionaryAlgorithm.step\u001b[1;34m(self)\u001b[0m\n\u001b[0;32m    144\u001b[0m \u001b[38;5;28;01mdef\u001b[39;00m \u001b[38;5;21mstep\u001b[39m(\u001b[38;5;28mself\u001b[39m):\n\u001b[0;32m    145\u001b[0m     mating_population \u001b[38;5;241m=\u001b[39m \u001b[38;5;28mself\u001b[39m\u001b[38;5;241m.\u001b[39mselection(\u001b[38;5;28mself\u001b[39m\u001b[38;5;241m.\u001b[39msolutions)\n\u001b[1;32m--> 146\u001b[0m     offspring_population \u001b[38;5;241m=\u001b[39m \u001b[38;5;28;43mself\u001b[39;49m\u001b[38;5;241;43m.\u001b[39;49m\u001b[43mreproduction\u001b[49m\u001b[43m(\u001b[49m\u001b[43mmating_population\u001b[49m\u001b[43m)\u001b[49m\n\u001b[0;32m    147\u001b[0m     offspring_population \u001b[38;5;241m=\u001b[39m \u001b[38;5;28mself\u001b[39m\u001b[38;5;241m.\u001b[39mevaluate(offspring_population)\n\u001b[0;32m    149\u001b[0m     \u001b[38;5;28mself\u001b[39m\u001b[38;5;241m.\u001b[39msolutions \u001b[38;5;241m=\u001b[39m \u001b[38;5;28mself\u001b[39m\u001b[38;5;241m.\u001b[39mreplacement(\u001b[38;5;28mself\u001b[39m\u001b[38;5;241m.\u001b[39msolutions, offspring_population)\n",
            "File \u001b[1;32mc:\\Users\\admin\\anaconda3\\lib\\site-packages\\jmetal\\algorithm\\singleobjective\\genetic_algorithm.py:95\u001b[0m, in \u001b[0;36mGeneticAlgorithm.reproduction\u001b[1;34m(self, mating_population)\u001b[0m\n\u001b[0;32m     92\u001b[0m \u001b[38;5;28;01mfor\u001b[39;00m j \u001b[38;5;129;01min\u001b[39;00m \u001b[38;5;28mrange\u001b[39m(number_of_parents_to_combine):\n\u001b[0;32m     93\u001b[0m     parents\u001b[38;5;241m.\u001b[39mappend(mating_population[i \u001b[38;5;241m+\u001b[39m j])\n\u001b[1;32m---> 95\u001b[0m offspring \u001b[38;5;241m=\u001b[39m \u001b[38;5;28;43mself\u001b[39;49m\u001b[38;5;241;43m.\u001b[39;49m\u001b[43mcrossover_operator\u001b[49m\u001b[38;5;241;43m.\u001b[39;49m\u001b[43mexecute\u001b[49m\u001b[43m(\u001b[49m\u001b[43mparents\u001b[49m\u001b[43m)\u001b[49m\n\u001b[0;32m     97\u001b[0m \u001b[38;5;28;01mfor\u001b[39;00m solution \u001b[38;5;129;01min\u001b[39;00m offspring:\n\u001b[0;32m     98\u001b[0m     \u001b[38;5;28mself\u001b[39m\u001b[38;5;241m.\u001b[39mmutation_operator\u001b[38;5;241m.\u001b[39mexecute(solution)\n",
            "File \u001b[1;32mc:\\Users\\admin\\anaconda3\\lib\\site-packages\\jmetal\\operator\\crossover.py:332\u001b[0m, in \u001b[0;36mSPXCrossover.execute\u001b[1;34m(self, parents)\u001b[0m\n\u001b[0;32m    330\u001b[0m variable_to_cut \u001b[38;5;241m=\u001b[39m \u001b[38;5;241m0\u001b[39m\n\u001b[0;32m    331\u001b[0m \u001b[38;5;66;03m#print(\"bits_count\",parents[1].variables[variable_to_cut])\u001b[39;00m\n\u001b[1;32m--> 332\u001b[0m bits_count \u001b[38;5;241m=\u001b[39m \u001b[38;5;28;43mlen\u001b[39;49m\u001b[43m(\u001b[49m\u001b[43mparents\u001b[49m\u001b[43m[\u001b[49m\u001b[38;5;241;43m1\u001b[39;49m\u001b[43m]\u001b[49m\u001b[38;5;241;43m.\u001b[39;49m\u001b[43mvariables\u001b[49m\u001b[43m[\u001b[49m\u001b[43mvariable_to_cut\u001b[49m\u001b[43m]\u001b[49m\u001b[43m)\u001b[49m\n\u001b[0;32m    333\u001b[0m \u001b[38;5;28;01mwhile\u001b[39;00m bits_count \u001b[38;5;241m<\u001b[39m (crossover_point \u001b[38;5;241m+\u001b[39m \u001b[38;5;241m1\u001b[39m):\n\u001b[0;32m    334\u001b[0m     variable_to_cut \u001b[38;5;241m+\u001b[39m\u001b[38;5;241m=\u001b[39m \u001b[38;5;241m1\u001b[39m\n",
            "\u001b[1;31mTypeError\u001b[0m: object of type 'bool' has no len()"
          ]
        }
      ],
      "source": [
        "class FeatureSelectionGA():\n",
        "  def __init__(self,X,y,alfa):\n",
        "    self.X = X\n",
        "    self.y = y\n",
        "    self.alfa = alfa\n",
        "    self.number_of_variables = X.shape[1]\n",
        "    self.number_of_objectives = 1\n",
        "    self.number_of_constraints = 0\n",
        "\n",
        "  def evaluate(self, solution):\n",
        "    selected_features = np.flatnonzero(solution.variables)\n",
        "    X_selected = self.X[:, selected_features]\n",
        "\n",
        "    kf = KFold(n_splits=4, shuffle=True, random_state=42)\n",
        "    scores = []\n",
        "    model = SVC()\n",
        "    for trainI, testI in kf.split(X_selected):\n",
        "      X_train, X_test = X_selected[trainI], X_selected[testI]\n",
        "      y_train, y_test = self.y[trainI], self.y[testI]\n",
        "      model.fit(X_train, y_train)\n",
        "      y_pred = model.predict(X_test)\n",
        "      acc = accuracy_score(y_test, y_pred)\n",
        "      scores.append(acc)\n",
        "\n",
        "    acc_avg = np.mean(scores)\n",
        "    num_variables = len(selected_features)\n",
        "    beta = 1 - self.alfa\n",
        "    fitness = 1.0 - (num_variables/self.X.shape[1]) # Primera parte de la función agregativa\n",
        "    fitness = (self.alfa * fitness) + (beta * acc_avg)\n",
        "    solution.objectives[0] = 1-fitness\n",
        "    solution.constraints = []\n",
        "\n",
        "  def create_solution(self):\n",
        "      new_solution = BinarySolution(\n",
        "          number_of_variables = self.number_of_variables,\n",
        "          number_of_objectives = self.number_of_objectives,\n",
        "          number_of_constraints = self.number_of_constraints\n",
        "      )\n",
        "      new_solution.variables = [True if np.random.randint(0, 1) == 0 else False for _ in range(self.number_of_variables)]\n",
        "      new_solution.objectives = [0 for _ in range(self.number_of_objectives)]\n",
        "      new_solution.constraints = [0 for _ in range(self.number_of_constraints)]\n",
        "      return new_solution\n",
        "\n",
        "  def get_name(self):\n",
        "    return \"FeatureSelectionGA\"\n",
        "  \n",
        "#DATA\n",
        "df_hd = pd.read_csv('../Data/HD_filtered.csv')\n",
        "encoder = LabelEncoder()\n",
        "X = df_hd.drop(columns=['Samples','Grade']).to_numpy()\n",
        "y = encoder.fit_transform(df_hd.Grade.to_numpy())\n",
        "clases = list(df_hd.columns[:-2])\n",
        "\n",
        "problem = FeatureSelectionGA(X,y,0.9)\n",
        "\n",
        "algorithm = GeneticAlgorithm(\n",
        "    problem=problem,\n",
        "    population_size=100,\n",
        "    offspring_population_size=100,\n",
        "    mutation=BitFlipMutation(0.01),\n",
        "    crossover=SPXCrossover(0.9),\n",
        "    selection=BinaryTournamentSelection(),\n",
        "    termination_criterion=StoppingByEvaluations(max_evaluations=1000)\n",
        ")\n",
        "\n",
        "algorithm.run()"
      ]
    }
  ],
  "metadata": {
    "colab": {
      "provenance": []
    },
    "kernelspec": {
      "display_name": "Python 3",
      "name": "python3"
    },
    "language_info": {
      "codemirror_mode": {
        "name": "ipython",
        "version": 3
      },
      "file_extension": ".py",
      "mimetype": "text/x-python",
      "name": "python",
      "nbconvert_exporter": "python",
      "pygments_lexer": "ipython3",
      "version": "3.8.3"
    }
  },
  "nbformat": 4,
  "nbformat_minor": 0
}
