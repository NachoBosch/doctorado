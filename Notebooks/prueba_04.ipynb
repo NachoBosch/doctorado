{
  "cells": [
    {
      "cell_type": "code",
      "execution_count": 1,
      "metadata": {
        "id": "MigqvZBj7Fgg"
      },
      "outputs": [],
      "source": [
        "# !pip install jmetalpy"
      ]
    },
    {
      "cell_type": "code",
      "execution_count": 1,
      "metadata": {
        "id": "ek2bSjts4eAL"
      },
      "outputs": [],
      "source": [
        "import pandas as pd\n",
        "import matplotlib.pyplot as plt\n",
        "import seaborn as sns\n",
        "import numpy as np\n",
        "sns.set()"
      ]
    },
    {
      "cell_type": "code",
      "execution_count": 2,
      "metadata": {
        "colab": {
          "base_uri": "https://localhost:8080/",
          "height": 130
        },
        "id": "Tfvf7yJw4kRK",
        "outputId": "1d41452b-19cf-41ec-9d2c-0e4ac2277b83"
      },
      "outputs": [
        {
          "data": {
            "text/html": [
              "<div>\n",
              "<style scoped>\n",
              "    .dataframe tbody tr th:only-of-type {\n",
              "        vertical-align: middle;\n",
              "    }\n",
              "\n",
              "    .dataframe tbody tr th {\n",
              "        vertical-align: top;\n",
              "    }\n",
              "\n",
              "    .dataframe thead th {\n",
              "        text-align: right;\n",
              "    }\n",
              "</style>\n",
              "<table border=\"1\" class=\"dataframe\">\n",
              "  <thead>\n",
              "    <tr style=\"text-align: right;\">\n",
              "      <th></th>\n",
              "      <th>Samples</th>\n",
              "      <th>ENSG00000000457</th>\n",
              "      <th>ENSG00000001461</th>\n",
              "      <th>ENSG00000001497</th>\n",
              "      <th>ENSG00000001626</th>\n",
              "      <th>ENSG00000002016</th>\n",
              "      <th>ENSG00000002745</th>\n",
              "      <th>ENSG00000002746</th>\n",
              "      <th>ENSG00000003137</th>\n",
              "      <th>ENSG00000003147</th>\n",
              "      <th>...</th>\n",
              "      <th>ENSG00000276644</th>\n",
              "      <th>ENSG00000277443</th>\n",
              "      <th>ENSG00000277893</th>\n",
              "      <th>ENSG00000278259</th>\n",
              "      <th>ENSG00000278311</th>\n",
              "      <th>ENSG00000279152</th>\n",
              "      <th>ENSG00000279519</th>\n",
              "      <th>ENSG00000280099</th>\n",
              "      <th>ENSG00000280109</th>\n",
              "      <th>Grade</th>\n",
              "    </tr>\n",
              "  </thead>\n",
              "  <tbody>\n",
              "    <tr>\n",
              "      <th>0</th>\n",
              "      <td>GSM86787</td>\n",
              "      <td>-0.030418</td>\n",
              "      <td>1.193756</td>\n",
              "      <td>1.852312</td>\n",
              "      <td>0.122721</td>\n",
              "      <td>-0.134031</td>\n",
              "      <td>0.178517</td>\n",
              "      <td>1.110357</td>\n",
              "      <td>-0.059366</td>\n",
              "      <td>0.528582</td>\n",
              "      <td>...</td>\n",
              "      <td>2.717965</td>\n",
              "      <td>7.964445</td>\n",
              "      <td>0.767224</td>\n",
              "      <td>1.14174</td>\n",
              "      <td>2.766475</td>\n",
              "      <td>-0.119175</td>\n",
              "      <td>2.737949</td>\n",
              "      <td>0.490229</td>\n",
              "      <td>1.250728</td>\n",
              "      <td>Control</td>\n",
              "    </tr>\n",
              "  </tbody>\n",
              "</table>\n",
              "<p>1 rows × 3394 columns</p>\n",
              "</div>"
            ],
            "text/plain": [
              "    Samples  ENSG00000000457  ENSG00000001461  ENSG00000001497  \\\n",
              "0  GSM86787        -0.030418         1.193756         1.852312   \n",
              "\n",
              "   ENSG00000001626  ENSG00000002016  ENSG00000002745  ENSG00000002746  \\\n",
              "0         0.122721        -0.134031         0.178517         1.110357   \n",
              "\n",
              "   ENSG00000003137  ENSG00000003147  ...  ENSG00000276644  ENSG00000277443  \\\n",
              "0        -0.059366         0.528582  ...         2.717965         7.964445   \n",
              "\n",
              "   ENSG00000277893  ENSG00000278259  ENSG00000278311  ENSG00000279152  \\\n",
              "0         0.767224          1.14174         2.766475        -0.119175   \n",
              "\n",
              "   ENSG00000279519  ENSG00000280099  ENSG00000280109    Grade  \n",
              "0         2.737949         0.490229         1.250728  Control  \n",
              "\n",
              "[1 rows x 3394 columns]"
            ]
          },
          "execution_count": 2,
          "metadata": {},
          "output_type": "execute_result"
        }
      ],
      "source": [
        "df_hd = pd.read_csv('../Data/HD_dataset_full.csv')\n",
        "df_hd.rename(columns={'Unnamed: 0':'Samples'},inplace=True)\n",
        "df_hd['Grade'] = df_hd['Grade'].map({'-':'Control',\n",
        "                                     '0':'HD_0',\n",
        "                                     '1':'HD_1',\n",
        "                                     '2':'HD_2',\n",
        "                                     '3':'HD_3',\n",
        "                                     '4':'HD_4'})\n",
        "df_hd.head(1)"
      ]
    },
    {
      "cell_type": "code",
      "execution_count": 3,
      "metadata": {
        "id": "htNk7O4w8V7P"
      },
      "outputs": [],
      "source": [
        "# from jmetal.core.problem import BinaryProblem\n",
        "from jmetal.core.solution import BinarySolution\n",
        "# from jmetal.algorithm.singleobjective import GeneticAlgorithm\n",
        "from jmetal.algorithm.multiobjective import NSGAII\n",
        "from jmetal.operator import BinaryTournamentSelection, SBXCrossover, BitFlipMutation, DifferentialEvolutionCrossover, PolynomialMutation, CXCrossover\n",
        "from jmetal.util.termination_criterion import StoppingByEvaluations"
      ]
    },
    {
      "cell_type": "code",
      "execution_count": 4,
      "metadata": {},
      "outputs": [],
      "source": [
        "from sklearn.tree import DecisionTreeClassifier\n",
        "from sklearn.metrics import accuracy_score\n",
        "from sklearn.model_selection import train_test_split"
      ]
    },
    {
      "cell_type": "code",
      "execution_count": 5,
      "metadata": {
        "id": "fZ7P0Vk_5Yw-"
      },
      "outputs": [],
      "source": [
        "class FeatureSelectionProblem():\n",
        "  def __init__(self,X,y):\n",
        "    self.X = X\n",
        "    self.y = y\n",
        "    self.number_of_variables = X.shape[1]\n",
        "    self.number_of_objectives = 1\n",
        "    self.number_of_constraints = 0\n",
        "\n",
        "  def evaluate(self, solution):\n",
        "    selected_features = np.flatnonzero(solution.variables)\n",
        "    X_selected = self.X.iloc[:, selected_features]\n",
        "    Xtrain,Xtest,ytrain,ytest = train_test_split(X_selected,self.y)\n",
        "\n",
        "    model = DecisionTreeClassifier()\n",
        "    model.fit(Xtrain, ytrain)\n",
        "    y_pred = model.predict(Xtest)\n",
        "    acc = accuracy_score(ytest, y_pred)\n",
        "\n",
        "    solution.objectives[0] = acc\n",
        "    solution.constraints = []\n",
        "\n",
        "  def create_solution(self):\n",
        "    new_solution = BinarySolution(\n",
        "        number_of_variables = self.number_of_variables,\n",
        "        number_of_objectives = self.number_of_objectives,\n",
        "        number_of_constraints = self.number_of_constraints\n",
        "    )\n",
        "    # new_variables = [list(np.random.randint(0, 2, size=1).tolist()[0] for _ in range(self.number_of_variables))]\n",
        "    new_variables = [np.random.randint(0, 2, size=1)[0] for _ in range(self.number_of_variables)]\n",
        "    new_solution.variables = new_variables\n",
        "    return new_solution\n",
        "\n",
        "  def get_name(self):\n",
        "    return \"FeatureSelectionProblem\"\n"
      ]
    },
    {
      "cell_type": "code",
      "execution_count": 6,
      "metadata": {
        "id": "AkYDusQb-CId"
      },
      "outputs": [],
      "source": [
        "X = df_hd.drop(columns=['Samples','Grade'])\n",
        "y = df_hd.Grade\n",
        "problem = FeatureSelectionProblem(X,y)"
      ]
    },
    {
      "cell_type": "code",
      "execution_count": 8,
      "metadata": {
        "colab": {
          "base_uri": "https://localhost:8080/"
        },
        "id": "-hTjgLyQ-1FI",
        "outputId": "664013ed-3072-45b1-f72e-53d731d47e4c"
      },
      "outputs": [
        {
          "name": "stderr",
          "output_type": "stream",
          "text": [
            "[2024-03-20 19:06:22,798] [jmetal.core.algorithm] [DEBUG] Creating initial set of solutions...\n"
          ]
        }
      ],
      "source": [
        "algorithm = NSGAII(\n",
        "    problem=problem,\n",
        "    population_size=100,\n",
        "    offspring_population_size=100,\n",
        "    mutation=BitFlipMutation(probability=1.0 / problem.number_of_variables),\n",
        "    crossover=CXCrossover(probability=1.0),\n",
        "    termination_criterion=StoppingByEvaluations(max_evaluations=2000)\n",
        ")\n",
        "\n",
        "algorithm.run()"
      ]
    },
    {
      "cell_type": "code",
      "execution_count": null,
      "metadata": {
        "id": "jzw10-Ye_SnK"
      },
      "outputs": [],
      "source": []
    }
  ],
  "metadata": {
    "colab": {
      "provenance": []
    },
    "kernelspec": {
      "display_name": "Python 3",
      "name": "python3"
    },
    "language_info": {
      "codemirror_mode": {
        "name": "ipython",
        "version": 3
      },
      "file_extension": ".py",
      "mimetype": "text/x-python",
      "name": "python",
      "nbconvert_exporter": "python",
      "pygments_lexer": "ipython3",
      "version": "3.8.3"
    }
  },
  "nbformat": 4,
  "nbformat_minor": 0
}
