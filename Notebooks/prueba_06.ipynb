{
  "cells": [
    {
      "cell_type": "markdown",
      "source": [
        "# MealPy"
      ],
      "metadata": {
        "id": "YGR6zWUR05PB"
      }
    },
    {
      "cell_type": "markdown",
      "metadata": {
        "id": "fTB9kPLOSqMK"
      },
      "source": [
        "Suponga que tiene una población de x individuos/soluciones, cada una de las cuales se evalúa una vez en una sola iteración. Esto significa que en cada iteración de su algoritmo, la función de evaluación se llama x número de veces (una para cada individuo/solución). Por lo tanto, tienes la relación: `Número de evaluaciones = Número de iteraciones * x`\n",
        "Por lo general, los investigadores establecen el número máximo de evaluaciones de funciones como criterio de parada para asegurarse de que los algoritmos que se comparan hayan muestreado el espacio de búsqueda el mismo número de veces."
      ]
    },
    {
      "cell_type": "code",
      "execution_count": null,
      "metadata": {
        "id": "MigqvZBj7Fgg"
      },
      "outputs": [],
      "source": [
        "!pip install mealpy"
      ]
    },
    {
      "cell_type": "code",
      "execution_count": 2,
      "metadata": {
        "id": "ek2bSjts4eAL"
      },
      "outputs": [],
      "source": [
        "import pandas as pd\n",
        "import matplotlib.pyplot as plt\n",
        "import seaborn as sns\n",
        "import numpy as np\n",
        "import datetime\n",
        "sns.set()"
      ]
    },
    {
      "cell_type": "code",
      "execution_count": 20,
      "metadata": {
        "id": "_HvZOWlZzUR-"
      },
      "outputs": [],
      "source": [
        "from sklearn.feature_selection import SelectKBest, f_classif\n",
        "from sklearn.tree import DecisionTreeClassifier\n",
        "from sklearn.ensemble import AdaBoostClassifier, RandomForestClassifier\n",
        "from sklearn.naive_bayes import MultinomialNB\n",
        "from sklearn.neighbors import KNeighborsClassifier\n",
        "from sklearn.svm import SVC\n",
        "\n",
        "import mealpy\n",
        "from mealpy import FloatVar, ALO, BinaryVar\n",
        "from sklearn.metrics import accuracy_score\n",
        "from sklearn.model_selection import train_test_split, cross_val_score\n",
        "from sklearn.preprocessing import LabelEncoder"
      ]
    },
    {
      "cell_type": "code",
      "execution_count": 33,
      "metadata": {
        "id": "aJZXxtuJBLx0"
      },
      "outputs": [],
      "source": [
        "#MODELS\n",
        "def models(name:str='dt'):\n",
        "  \"\"\"Selecciona el modelo a entrenar:\n",
        "                'dt':DecisionTreeClassifier,\n",
        "                'ab':AdaBoostClassifier,\n",
        "                'nb':MultinomialNB,\n",
        "                'rf':RandomForestClassifier,\n",
        "                'knn':KNeighborsClassifier(),\n",
        "                'svm':SVC\"\"\"\n",
        "  models_dic = {'dt':DecisionTreeClassifier(),\n",
        "                'ab':AdaBoostClassifier(),\n",
        "                'nb':MultinomialNB(),\n",
        "                'rf':RandomForestClassifier(),\n",
        "                'knn':KNeighborsClassifier(n_neighbors=9),\n",
        "                'svm':SVC()}\n",
        "  return models_dic[name]"
      ]
    },
    {
      "cell_type": "code",
      "execution_count": 31,
      "metadata": {
        "id": "Tfvf7yJw4kRK"
      },
      "outputs": [],
      "source": [
        "#PRE-SETS\n",
        "df_hd = pd.read_csv('HD_filtered.csv')\n",
        "encoder = LabelEncoder()\n",
        "X = df_hd.drop(columns=['Samples','Grade']).to_numpy()\n",
        "y = encoder.fit_transform(df_hd.Grade.to_numpy())\n",
        "clases = list(df_hd.columns[:-2])"
      ]
    },
    {
      "cell_type": "code",
      "source": [
        "# Pre-filtering Select K-best\n",
        "kbest = SelectKBest(score_func=f_classif, k=100)\n",
        "X_select = kbest.fit_transform(X, y)\n",
        "print(\"Columnas seleccionadas:\", len(kbest.get_support(indices=True)))\n",
        "selected_features = [clases[i] for i in kbest.get_support(indices=True)]\n",
        "print(f\"Features seleccionadas: {selected_features}\")\n"
      ],
      "metadata": {
        "colab": {
          "base_uri": "https://localhost:8080/"
        },
        "id": "8Iel40_rVCEP",
        "outputId": "aa9a9b57-32f0-4057-bd93-b485f54f3577"
      },
      "execution_count": 6,
      "outputs": [
        {
          "output_type": "stream",
          "name": "stdout",
          "text": [
            "Columnas seleccionadas: 100\n",
            "Features seleccionadas: ['ENSG00000114948', 'ENSG00000056736', 'ENSG00000078328', 'ENSG00000184545', 'ENSG00000106617', 'ENSG00000153310', 'ENSG00000135439', 'ENSG00000171208', 'ENSG00000111218', 'ENSG00000084090', 'ENSG00000145012', 'ENSG00000100852', 'ENSG00000100027', 'ENSG00000111785', 'ENSG00000069966', 'ENSG00000157680', 'ENSG00000102401', 'ENSG00000127152', 'ENSG00000164068', 'ENSG00000157087', 'ENSG00000154556', 'ENSG00000175471', 'ENSG00000276644', 'ENSG00000130477', 'ENSG00000153885', 'ENSG00000198363', 'ENSG00000196236', 'ENSG00000100592', 'ENSG00000112697', 'ENSG00000188786', 'ENSG00000197006', 'ENSG00000152413', 'ENSG00000169871', 'ENSG00000113916', 'ENSG00000106610', 'ENSG00000109919', 'ENSG00000198142', 'ENSG00000143774', 'ENSG00000139218', 'ENSG00000158195', 'ENSG00000169567', 'ENSG00000075415', 'ENSG00000122012', 'ENSG00000134376', 'ENSG00000104723', 'ENSG00000144909', 'ENSG00000140443', 'ENSG00000091879', 'ENSG00000198740', 'ENSG00000104863', 'ENSG00000069702', 'ENSG00000036549', 'ENSG00000123064', 'ENSG00000174938', 'ENSG00000148341', 'ENSG00000172530', 'ENSG00000064763', 'ENSG00000125863', 'ENSG00000213853', 'ENSG00000112851', 'ENSG00000141469', 'ENSG00000168884', 'ENSG00000162733', 'ENSG00000163638', 'ENSG00000144445', 'ENSG00000069974', 'ENSG00000182240', 'ENSG00000078114', 'ENSG00000125676', 'ENSG00000105784', 'ENSG00000114796', 'ENSG00000134294', 'ENSG00000135643', 'ENSG00000110077', 'ENSG00000135720', 'ENSG00000172915', 'ENSG00000129566', 'ENSG00000047644', 'ENSG00000174720', 'ENSG00000103187', 'ENSG00000114439', 'ENSG00000101347', 'ENSG00000143258', 'ENSG00000047457', 'ENSG00000185736', 'ENSG00000120594', 'ENSG00000091317', 'ENSG00000165959', 'ENSG00000119397', 'ENSG00000111481', 'ENSG00000127507', 'ENSG00000173530', 'ENSG00000071054', 'ENSG00000151748', 'ENSG00000117228', 'ENSG00000089327', 'ENSG00000171105', 'ENSG00000204103', 'ENSG00000127528', 'ENSG00000197142']\n"
          ]
        }
      ]
    },
    {
      "cell_type": "markdown",
      "source": [
        "## Random Forest"
      ],
      "metadata": {
        "id": "M3WoDzde002W"
      }
    },
    {
      "cell_type": "code",
      "source": [
        "model = models('rf')\n",
        "model.fit(X_select, y)\n",
        "print(f\"Base line score: {model.score(X_select, y)}\")"
      ],
      "metadata": {
        "colab": {
          "base_uri": "https://localhost:8080/"
        },
        "id": "fDXdLty6teW-",
        "outputId": "1929a08a-b36c-4641-a2e7-1e03fe0e2f60"
      },
      "execution_count": 18,
      "outputs": [
        {
          "output_type": "stream",
          "name": "stdout",
          "text": [
            "Base line score: 1.0\n"
          ]
        }
      ]
    },
    {
      "cell_type": "code",
      "source": [
        "model = models('rf')\n",
        "scores = cross_val_score(model, X_select, y, cv=4, scoring='accuracy')\n",
        "acc = np.mean(scores)\n",
        "print(f\"Cross val score: {acc}\")"
      ],
      "metadata": {
        "colab": {
          "base_uri": "https://localhost:8080/"
        },
        "id": "CUtyRYvAankq",
        "outputId": "2b967006-3be0-40b0-9b3b-31f35b7f5696"
      },
      "execution_count": 17,
      "outputs": [
        {
          "output_type": "stream",
          "name": "stdout",
          "text": [
            "Cross val score: 0.5371287128712872\n"
          ]
        }
      ]
    },
    {
      "cell_type": "code",
      "source": [
        "model = models('rf')\n",
        "xtrain,xtest,ytrain,ytest = train_test_split(X_select,y,test_size=0.3,random_state=42,stratify=y)\n",
        "model.fit(xtrain, ytrain)\n",
        "print(f\"Train score: {model.score(xtrain, ytrain)}\")\n",
        "print(f\"Test score: {model.score(xtest, ytest)}\")"
      ],
      "metadata": {
        "colab": {
          "base_uri": "https://localhost:8080/"
        },
        "id": "JS4VTtYstrTV",
        "outputId": "feaf65da-db44-4e82-d939-a23268f25e22"
      },
      "execution_count": 16,
      "outputs": [
        {
          "output_type": "stream",
          "name": "stdout",
          "text": [
            "Train score: 1.0\n",
            "Test score: 0.6147540983606558\n"
          ]
        }
      ]
    },
    {
      "cell_type": "code",
      "execution_count": 27,
      "metadata": {
        "id": "ZcvGkFsWzarN",
        "colab": {
          "base_uri": "https://localhost:8080/"
        },
        "outputId": "57e9dcd5-20f5-4ac3-a47f-d86350b46700"
      },
      "outputs": [
        {
          "output_type": "stream",
          "name": "stderr",
          "text": [
            "INFO:mealpy.swarm_based.ALO.OriginalALO:Solving single objective optimization problem.\n",
            "INFO:mealpy.swarm_based.ALO.OriginalALO:>>>Problem: P, Epoch: 1, Current best: 0.30962962962962964, Global best: 0.30962962962962964, Runtime: 2.15422 seconds\n",
            "INFO:mealpy.swarm_based.ALO.OriginalALO:>>>Problem: P, Epoch: 2, Current best: 0.30962962962962964, Global best: 0.30962962962962964, Runtime: 1.89003 seconds\n",
            "INFO:mealpy.swarm_based.ALO.OriginalALO:>>>Problem: P, Epoch: 3, Current best: 0.36962962962962964, Global best: 0.36962962962962964, Runtime: 1.48353 seconds\n",
            "INFO:mealpy.swarm_based.ALO.OriginalALO:>>>Problem: P, Epoch: 4, Current best: 0.36962962962962964, Global best: 0.36962962962962964, Runtime: 1.54905 seconds\n",
            "INFO:mealpy.swarm_based.ALO.OriginalALO:>>>Problem: P, Epoch: 5, Current best: 0.38197530864197526, Global best: 0.38197530864197526, Runtime: 1.50857 seconds\n",
            "INFO:mealpy.swarm_based.ALO.OriginalALO:>>>Problem: P, Epoch: 6, Current best: 0.38197530864197526, Global best: 0.38197530864197526, Runtime: 1.42712 seconds\n",
            "INFO:mealpy.swarm_based.ALO.OriginalALO:>>>Problem: P, Epoch: 7, Current best: 0.38197530864197526, Global best: 0.38197530864197526, Runtime: 1.52521 seconds\n",
            "INFO:mealpy.swarm_based.ALO.OriginalALO:>>>Problem: P, Epoch: 8, Current best: 0.38197530864197526, Global best: 0.38197530864197526, Runtime: 2.34792 seconds\n",
            "INFO:mealpy.swarm_based.ALO.OriginalALO:>>>Problem: P, Epoch: 9, Current best: 0.38197530864197526, Global best: 0.38197530864197526, Runtime: 1.94419 seconds\n",
            "INFO:mealpy.swarm_based.ALO.OriginalALO:>>>Problem: P, Epoch: 10, Current best: 0.38197530864197526, Global best: 0.38197530864197526, Runtime: 1.55628 seconds\n"
          ]
        }
      ],
      "source": [
        "#OBJECTIVE\n",
        "def fitness_function(solution):\n",
        "  selected_indices = np.flatnonzero(solution)\n",
        "  X_new = X_select[:, selected_indices]\n",
        "\n",
        "  model = models('rf')\n",
        "  xtrain,xtest,ytrain,ytest = train_test_split(X_new,y,test_size=0.2,random_state=42,stratify=y)\n",
        "  model.fit(xtrain,ytrain)\n",
        "  ypred = model.predict(xtest)\n",
        "\n",
        "  num_variables = len(selected_indices)\n",
        "  acc = accuracy_score(ytest, ypred)\n",
        "  penalizacion = num_variables/X_select.shape[1]\n",
        "  fitness = acc - penalizacion\n",
        "  return fitness\n",
        "\n",
        "#PROBLEM\n",
        "problem_dict = {\n",
        "  \"bounds\": BinaryVar(n_vars=X_select.shape[1]),\n",
        "  \"obj_func\": fitness_function,\n",
        "  \"minmax\": \"max\",\n",
        "  \"log_file\":\"rf_result.log\"\n",
        "}\n",
        "\n",
        "#OPTIMIZADOR\n",
        "optimizer = ALO.OriginalALO(epoch=10, pop_size=5)\n",
        "g_best = optimizer.solve(problem_dict)"
      ]
    },
    {
      "cell_type": "code",
      "source": [
        "selected_indices = np.flatnonzero(g_best.solution)\n",
        "selected_variables = df_hd.columns[selected_indices]\n",
        "\n",
        "print(f\"Variables seleccionadas: {list(selected_variables)}\")\n",
        "print(f\"Cantidad de variables seleccionadas: {len(selected_variables)}\")\n",
        "print(f\"Mejor valor de aptitud: {g_best.target.fitness}\")"
      ],
      "metadata": {
        "colab": {
          "base_uri": "https://localhost:8080/"
        },
        "id": "QK_cQZUQdcdw",
        "outputId": "cefeb8d6-6bca-43dd-bd0c-7ceb71415a61"
      },
      "execution_count": 28,
      "outputs": [
        {
          "output_type": "stream",
          "name": "stdout",
          "text": [
            "Variables seleccionadas: ['ENSG00000078328', 'ENSG00000084090', 'ENSG00000111785', 'ENSG00000157087', 'ENSG00000175471', 'ENSG00000130477', 'ENSG00000198363', 'ENSG00000109919', 'ENSG00000198142', 'ENSG00000075415', 'ENSG00000122012', 'ENSG00000144909', 'ENSG00000104863', 'ENSG00000119547', 'ENSG00000069702', 'ENSG00000169282', 'ENSG00000162733', 'ENSG00000144445', 'ENSG00000176142', 'ENSG00000182240', 'ENSG00000006377', 'ENSG00000158528', 'ENSG00000105784', 'ENSG00000135643', 'ENSG00000049759', 'ENSG00000163904']\n",
            "Cantidad de variables seleccionadas: 26\n",
            "Mejor valor de aptitud: 0.38197530864197526\n"
          ]
        }
      ]
    },
    {
      "cell_type": "markdown",
      "source": [
        "## K-Nerest Neighbors"
      ],
      "metadata": {
        "id": "0QucqqL21BV4"
      }
    },
    {
      "cell_type": "code",
      "source": [
        "model = models('knn')\n",
        "xtrain,xtest,ytrain,ytest = train_test_split(X_select,y,test_size=0.3,random_state=42,stratify=y)\n",
        "model.fit(xtrain, ytrain)\n",
        "print(f\"Train score: {model.score(xtrain, ytrain)}\")\n",
        "print(f\"Test score: {model.score(xtest, ytest)}\")"
      ],
      "metadata": {
        "colab": {
          "base_uri": "https://localhost:8080/"
        },
        "id": "LSCIdIBrddIK",
        "outputId": "81cff028-0560-492d-b65b-6b6037df48c0"
      },
      "execution_count": 34,
      "outputs": [
        {
          "output_type": "stream",
          "name": "stdout",
          "text": [
            "Train score: 0.5709219858156028\n",
            "Test score: 0.5901639344262295\n"
          ]
        }
      ]
    },
    {
      "cell_type": "code",
      "source": [
        "#OBJECTIVE\n",
        "def fitness_function(solution):\n",
        "  selected_indices = np.flatnonzero(solution)\n",
        "  X_new = X_select[:, selected_indices]\n",
        "\n",
        "  model = models('knn')\n",
        "  xtrain,xtest,ytrain,ytest = train_test_split(X_new,y,test_size=0.2,random_state=42,stratify=y)\n",
        "  model.fit(xtrain,ytrain)\n",
        "  ypred = model.predict(xtest)\n",
        "\n",
        "  num_variables = len(selected_indices)\n",
        "  acc = accuracy_score(ytest, ypred)\n",
        "  penalizacion = num_variables/X_select.shape[1]\n",
        "  fitness = acc - penalizacion\n",
        "  return fitness\n",
        "\n",
        "#PROBLEM\n",
        "problem_dict = {\n",
        "  \"bounds\": BinaryVar(n_vars=X_select.shape[1]),\n",
        "  \"obj_func\": fitness_function,\n",
        "  \"minmax\": \"max\",\n",
        "  \"log_file\":\"knn_result.log\"\n",
        "}\n",
        "\n",
        "#OPTIMIZADOR\n",
        "optimizer = ALO.OriginalALO(epoch=10, pop_size=5)\n",
        "g_best = optimizer.solve(problem_dict)"
      ],
      "metadata": {
        "colab": {
          "base_uri": "https://localhost:8080/"
        },
        "id": "GYayjof81UXx",
        "outputId": "b95c2e44-aa88-47a9-b6d7-55eeb1a86d52"
      },
      "execution_count": 35,
      "outputs": [
        {
          "output_type": "stream",
          "name": "stderr",
          "text": [
            "INFO:mealpy.swarm_based.ALO.OriginalALO:Solving single objective optimization problem.\n",
            "INFO:mealpy.swarm_based.ALO.OriginalALO:>>>Problem: P, Epoch: 1, Current best: 0.2938271604938271, Global best: 0.2938271604938271, Runtime: 0.08870 seconds\n",
            "INFO:mealpy.swarm_based.ALO.OriginalALO:>>>Problem: P, Epoch: 2, Current best: 0.2938271604938271, Global best: 0.2938271604938271, Runtime: 0.11134 seconds\n",
            "INFO:mealpy.swarm_based.ALO.OriginalALO:>>>Problem: P, Epoch: 3, Current best: 0.2938271604938271, Global best: 0.2938271604938271, Runtime: 0.09057 seconds\n",
            "INFO:mealpy.swarm_based.ALO.OriginalALO:>>>Problem: P, Epoch: 4, Current best: 0.3214814814814815, Global best: 0.3214814814814815, Runtime: 0.08918 seconds\n",
            "INFO:mealpy.swarm_based.ALO.OriginalALO:>>>Problem: P, Epoch: 5, Current best: 0.3214814814814815, Global best: 0.3214814814814815, Runtime: 0.08791 seconds\n",
            "INFO:mealpy.swarm_based.ALO.OriginalALO:>>>Problem: P, Epoch: 6, Current best: 0.3214814814814815, Global best: 0.3214814814814815, Runtime: 0.08832 seconds\n",
            "INFO:mealpy.swarm_based.ALO.OriginalALO:>>>Problem: P, Epoch: 7, Current best: 0.3214814814814815, Global best: 0.3214814814814815, Runtime: 0.09204 seconds\n",
            "INFO:mealpy.swarm_based.ALO.OriginalALO:>>>Problem: P, Epoch: 8, Current best: 0.3214814814814815, Global best: 0.3214814814814815, Runtime: 0.09406 seconds\n",
            "INFO:mealpy.swarm_based.ALO.OriginalALO:>>>Problem: P, Epoch: 9, Current best: 0.3214814814814815, Global best: 0.3214814814814815, Runtime: 0.09843 seconds\n",
            "INFO:mealpy.swarm_based.ALO.OriginalALO:>>>Problem: P, Epoch: 10, Current best: 0.3214814814814815, Global best: 0.3214814814814815, Runtime: 0.09181 seconds\n"
          ]
        }
      ]
    },
    {
      "cell_type": "code",
      "source": [
        "selected_indices = np.flatnonzero(g_best.solution)\n",
        "selected_variables = df_hd.columns[selected_indices]\n",
        "\n",
        "print(f\"Variables seleccionadas: {list(selected_variables)}\")\n",
        "print(f\"Cantidad de variables seleccionadas: {len(selected_variables)}\")\n",
        "print(f\"Mejor valor de aptitud: {g_best.target.fitness}\")"
      ],
      "metadata": {
        "colab": {
          "base_uri": "https://localhost:8080/"
        },
        "id": "gcN7BEZO288u",
        "outputId": "0e64203e-1087-4a72-d7f1-0db6ac3f53f6"
      },
      "execution_count": 36,
      "outputs": [
        {
          "output_type": "stream",
          "name": "stdout",
          "text": [
            "Variables seleccionadas: ['ENSG00000056736', 'ENSG00000078328', 'ENSG00000154556', 'ENSG00000169871', 'ENSG00000198142', 'ENSG00000091879', 'ENSG00000123064', 'ENSG00000172530', 'ENSG00000100330', 'ENSG00000137996', 'ENSG00000158528', 'ENSG00000147421', 'ENSG00000049759', 'ENSG00000164292', 'ENSG00000163904', 'ENSG00000106344']\n",
            "Cantidad de variables seleccionadas: 16\n",
            "Mejor valor de aptitud: 0.3214814814814815\n"
          ]
        }
      ]
    },
    {
      "cell_type": "code",
      "source": [
        "optimizer.history.save_global_objectives_chart(filename=\"hello/goc\")\n",
        "optimizer.history.save_local_objectives_chart(filename=\"hello/loc\")\n",
        "\n",
        "optimizer.history.save_global_best_fitness_chart(filename=\"hello/gbfc\")\n",
        "optimizer.history.save_local_best_fitness_chart(filename=\"hello/lbfc\")\n",
        "\n",
        "optimizer.history.save_runtime_chart(filename=\"hello/rtc\")\n",
        "optimizer.history.save_exploration_exploitation_chart(filename=\"hello/eec\")\n",
        "\n",
        "optimizer.history.save_diversity_chart(filename=\"hello/dc\")"
      ],
      "metadata": {
        "id": "cUaifWLl3p2B"
      },
      "execution_count": 40,
      "outputs": []
    },
    {
      "cell_type": "markdown",
      "source": [
        "## Adaboost Classifier"
      ],
      "metadata": {
        "id": "ftswI0qC9CnD"
      }
    },
    {
      "cell_type": "code",
      "source": [
        "model = models('ab')\n",
        "xtrain,xtest,ytrain,ytest = train_test_split(X_select,y,test_size=0.3,random_state=42,stratify=y)\n",
        "model.fit(xtrain, ytrain)\n",
        "print(f\"Train score: {model.score(xtrain, ytrain)}\")\n",
        "print(f\"Test score: {model.score(xtest, ytest)}\")"
      ],
      "metadata": {
        "colab": {
          "base_uri": "https://localhost:8080/"
        },
        "id": "YqanvgdU5mmL",
        "outputId": "9383f51a-a2cc-44e1-fde1-529b4fbd8b97"
      },
      "execution_count": 42,
      "outputs": [
        {
          "output_type": "stream",
          "name": "stdout",
          "text": [
            "Train score: 0.524822695035461\n",
            "Test score: 0.5081967213114754\n"
          ]
        }
      ]
    },
    {
      "cell_type": "code",
      "source": [
        "#OBJECTIVE\n",
        "def fitness_function(solution):\n",
        "  selected_indices = np.flatnonzero(solution)\n",
        "  X_new = X_select[:, selected_indices]\n",
        "\n",
        "  model = models('ab')\n",
        "  xtrain,xtest,ytrain,ytest = train_test_split(X_new,y,test_size=0.2,random_state=42,stratify=y)\n",
        "  model.fit(xtrain,ytrain)\n",
        "  ypred = model.predict(xtest)\n",
        "\n",
        "  num_variables = len(selected_indices)\n",
        "  acc = accuracy_score(ytest, ypred)\n",
        "\n",
        "  alfa = 0.1\n",
        "  beta = 1 - alfa\n",
        "  fitness = 1.0 - (num_variables/X_select.shape[1]) # Primera parte de la función agregativa\n",
        "  fitness = (alfa * fitness) + (beta * acc)\n",
        "  return fitness\n",
        "\n",
        "#PROBLEM\n",
        "problem_dict = {\n",
        "  \"bounds\": BinaryVar(n_vars=X_select.shape[1]),\n",
        "  \"obj_func\": fitness_function,\n",
        "  \"minmax\": \"max\",\n",
        "  \"log_file\":\"knn_result.log\"\n",
        "}\n",
        "\n",
        "#OPTIMIZADOR\n",
        "optimizer = ALO.OriginalALO(epoch=10, pop_size=5)\n",
        "g_best = optimizer.solve(problem_dict)"
      ],
      "metadata": {
        "colab": {
          "base_uri": "https://localhost:8080/"
        },
        "id": "B_hUcN1E9Ra1",
        "outputId": "4528dd6f-327a-4386-b94a-c047c2dd3264"
      },
      "execution_count": 47,
      "outputs": [
        {
          "output_type": "stream",
          "name": "stderr",
          "text": [
            "INFO:mealpy.swarm_based.ALO.OriginalALO:Solving single objective optimization problem.\n",
            "INFO:mealpy.swarm_based.ALO.OriginalALO:>>>Problem: P, Epoch: 1, Current best: 0.5998765432098765, Global best: 0.5998765432098765, Runtime: 1.29021 seconds\n",
            "INFO:mealpy.swarm_based.ALO.OriginalALO:>>>Problem: P, Epoch: 2, Current best: 0.5998765432098765, Global best: 0.5998765432098765, Runtime: 1.27866 seconds\n",
            "INFO:mealpy.swarm_based.ALO.OriginalALO:>>>Problem: P, Epoch: 3, Current best: 0.5998765432098765, Global best: 0.5998765432098765, Runtime: 1.27233 seconds\n",
            "INFO:mealpy.swarm_based.ALO.OriginalALO:>>>Problem: P, Epoch: 4, Current best: 0.5998765432098765, Global best: 0.5998765432098765, Runtime: 1.34366 seconds\n",
            "INFO:mealpy.swarm_based.ALO.OriginalALO:>>>Problem: P, Epoch: 5, Current best: 0.6422222222222222, Global best: 0.6422222222222222, Runtime: 1.20468 seconds\n",
            "INFO:mealpy.swarm_based.ALO.OriginalALO:>>>Problem: P, Epoch: 6, Current best: 0.6422222222222222, Global best: 0.6422222222222222, Runtime: 0.86454 seconds\n",
            "INFO:mealpy.swarm_based.ALO.OriginalALO:>>>Problem: P, Epoch: 7, Current best: 0.6422222222222222, Global best: 0.6422222222222222, Runtime: 1.17562 seconds\n",
            "INFO:mealpy.swarm_based.ALO.OriginalALO:>>>Problem: P, Epoch: 8, Current best: 0.6422222222222222, Global best: 0.6422222222222222, Runtime: 1.36479 seconds\n",
            "INFO:mealpy.swarm_based.ALO.OriginalALO:>>>Problem: P, Epoch: 9, Current best: 0.6422222222222222, Global best: 0.6422222222222222, Runtime: 1.84578 seconds\n",
            "INFO:mealpy.swarm_based.ALO.OriginalALO:>>>Problem: P, Epoch: 10, Current best: 0.6422222222222222, Global best: 0.6422222222222222, Runtime: 1.27310 seconds\n"
          ]
        }
      ]
    },
    {
      "cell_type": "code",
      "source": [
        "selected_indices = np.flatnonzero(g_best.solution)\n",
        "selected_variables = df_hd.columns[selected_indices]\n",
        "\n",
        "print(f\"Variables seleccionadas: {list(selected_variables)}\")\n",
        "print(f\"Cantidad de variables seleccionadas: {len(selected_variables)}\")\n",
        "print(f\"Mejor valor de aptitud: {g_best.target.fitness}\")"
      ],
      "metadata": {
        "colab": {
          "base_uri": "https://localhost:8080/"
        },
        "id": "hjuEurxd-zp4",
        "outputId": "4357bbde-b895-40f0-8e47-9ecfd52cd932"
      },
      "execution_count": 48,
      "outputs": [
        {
          "output_type": "stream",
          "name": "stdout",
          "text": [
            "Variables seleccionadas: ['ENSG00000114948', 'ENSG00000078328', 'ENSG00000084090', 'ENSG00000276644', 'ENSG00000130477', 'ENSG00000153885', 'ENSG00000197006', 'ENSG00000143774', 'ENSG00000148341', 'ENSG00000064763', 'ENSG00000169282', 'ENSG00000101940', 'ENSG00000141469', 'ENSG00000137996', 'ENSG00000105784', 'ENSG00000110880']\n",
            "Cantidad de variables seleccionadas: 16\n",
            "Mejor valor de aptitud: 0.6422222222222222\n"
          ]
        }
      ]
    },
    {
      "cell_type": "code",
      "source": [],
      "metadata": {
        "id": "dQJ7D2FH-0MP"
      },
      "execution_count": null,
      "outputs": []
    }
  ],
  "metadata": {
    "colab": {
      "provenance": []
    },
    "kernelspec": {
      "display_name": "Python 3",
      "name": "python3"
    },
    "language_info": {
      "name": "python"
    }
  },
  "nbformat": 4,
  "nbformat_minor": 0
}